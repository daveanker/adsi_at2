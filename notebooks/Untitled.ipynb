{
 "cells": [
  {
   "cell_type": "code",
   "execution_count": 25,
   "id": "british-riverside",
   "metadata": {},
   "outputs": [],
   "source": [
    "import torch\n",
    "from torch import nn\n",
    "from torch.nn import functional as F\n",
    "from torchsummary import summary\n",
    "#mport torchvision\n",
    "#rom torchvision import models"
   ]
  },
  {
   "cell_type": "code",
   "execution_count": 2,
   "id": "latin-effects",
   "metadata": {},
   "outputs": [],
   "source": [
    "class PytorchMultiClass(nn.Module):\n",
    "    def __init__(self, num_features):\n",
    "        super(PytorchMultiClass, self).__init__()\n",
    "        \n",
    "        self.layer_1 = nn.Linear(num_features, 32)\n",
    "        self.layer_2 = nn.Linear(32,16)\n",
    "        self.layer_3 = nn.Linear(16,8)\n",
    "        self.layer_out = nn.Linear(8, 104) #Number of classes in target variable\n",
    "        self.softmax = nn.Softmax(dim=1)\n",
    "\n",
    "    def forward(self, x):\n",
    "        x = F.dropout(F.relu(self.layer_1(x)), training=self.training)\n",
    "        x = F.dropout(F.relu(self.layer_2(x)), training=self.training)\n",
    "        x = F.dropout(F.relu(self.layer_3(x)), training=self.training)\n",
    "        x = self.layer_out(x)\n",
    "        return self.softmax(x)"
   ]
  },
  {
   "cell_type": "code",
   "execution_count": 21,
   "id": "responsible-dress",
   "metadata": {},
   "outputs": [],
   "source": [
    "from torch import Tensor\n",
    "from numpy import argmax\n",
    "\n",
    "def predict(brewery_name: int, review_aroma: int, review_appearance:int, review_palate: int, review_taste: int):\n",
    "    features = [brewery_name, review_aroma, review_appearance, review_palate, review_taste]\n",
    "    # convert row to data\n",
    "    features = Tensor([features])\n",
    "    # make prediction\n",
    "    yhat = model(features)\n",
    "    # retrieve numpy array\n",
    "    yhat = yhat.detach().numpy()\n",
    "    return argmax(yhat)\n",
    "    #return JSONResponse(pred.tolist())"
   ]
  },
  {
   "cell_type": "code",
   "execution_count": 22,
   "id": "worst-notebook",
   "metadata": {},
   "outputs": [],
   "source": [
    "model = torch.load(\"../models/beer_pred.pt\")"
   ]
  },
  {
   "cell_type": "code",
   "execution_count": 28,
   "id": "identical-archive",
   "metadata": {},
   "outputs": [
    {
     "name": "stdout",
     "output_type": "stream",
     "text": [
      "----------------------------------------------------------------\n",
      "        Layer (type)               Output Shape         Param #\n",
      "================================================================\n",
      "            Linear-1             [-1, 1000, 32]             192\n",
      "            Linear-2             [-1, 1000, 16]             528\n",
      "            Linear-3              [-1, 1000, 8]             136\n",
      "            Linear-4            [-1, 1000, 104]             936\n",
      "           Softmax-5            [-1, 1000, 104]               0\n",
      "================================================================\n",
      "Total params: 1,792\n",
      "Trainable params: 1,792\n",
      "Non-trainable params: 0\n",
      "----------------------------------------------------------------\n",
      "Input size (MB): 0.02\n",
      "Forward/backward pass size (MB): 2.01\n",
      "Params size (MB): 0.01\n",
      "Estimated Total Size (MB): 2.04\n",
      "----------------------------------------------------------------\n"
     ]
    }
   ],
   "source": [
    "summary(model, (1000, 5))"
   ]
  },
  {
   "cell_type": "code",
   "execution_count": 23,
   "id": "dirty-vermont",
   "metadata": {},
   "outputs": [
    {
     "data": {
      "text/plain": [
       "1"
      ]
     },
     "execution_count": 23,
     "metadata": {},
     "output_type": "execute_result"
    }
   ],
   "source": [
    "predict(brewery_name = 1687, review_aroma = 2.0, review_appearance = 2.5, review_palate = 2.5, review_taste = 2.5)"
   ]
  },
  {
   "cell_type": "code",
   "execution_count": null,
   "id": "adult-jonathan",
   "metadata": {},
   "outputs": [],
   "source": [
    "class PytorchMultiClass(nn.Module):\n",
    "    def __init__(self, num_features):\n",
    "        super(PytorchMultiClass, self).__init__()\n",
    "        \n",
    "        self.layer_1 = nn.Linear(num_features, 32)\n",
    "        self.layer_out = nn.Linear(32, 104) #Number of classes in target variable?\n",
    "        self.softmax = nn.Softmax(dim=1)\n",
    "\n",
    "    def forward(self, x):\n",
    "        x = F.dropout(F.relu(self.layer_1(x)), training=self.training)\n",
    "        x = self.layer_out(x)\n",
    "        return self.softmax(x)"
   ]
  },
  {
   "cell_type": "code",
   "execution_count": null,
   "id": "operating-prerequisite",
   "metadata": {},
   "outputs": [],
   "source": [
    "model = torch.load(\"../models/beer_pred.pt\", encoding='ascii')\n",
    "model"
   ]
  },
  {
   "cell_type": "code",
   "execution_count": null,
   "id": "qualified-afghanistan",
   "metadata": {},
   "outputs": [],
   "source": [
    "model.eval()"
   ]
  },
  {
   "cell_type": "code",
   "execution_count": null,
   "id": "compliant-disclosure",
   "metadata": {},
   "outputs": [],
   "source": [
    "with torch.no_grad()"
   ]
  },
  {
   "cell_type": "code",
   "execution_count": null,
   "id": "chinese-resolution",
   "metadata": {},
   "outputs": [],
   "source": [
    "# Get target containing class indices back\n",
    "torch.argmax(data, dim=1)"
   ]
  },
  {
   "cell_type": "code",
   "execution_count": null,
   "id": "other-nirvana",
   "metadata": {},
   "outputs": [],
   "source": []
  },
  {
   "cell_type": "code",
   "execution_count": null,
   "id": "extended-holocaust",
   "metadata": {},
   "outputs": [],
   "source": [
    "model = torch.load(\"../models/beer_pred.pt\", encoding='ascii')\n",
    "print(model)"
   ]
  },
  {
   "cell_type": "code",
   "execution_count": null,
   "id": "subsequent-intensity",
   "metadata": {},
   "outputs": [],
   "source": [
    "from torchsummary import summary\n",
    "summary(model, (5, 104, 104))"
   ]
  },
  {
   "cell_type": "code",
   "execution_count": null,
   "id": "nervous-links",
   "metadata": {},
   "outputs": [],
   "source": []
  }
 ],
 "metadata": {
  "kernelspec": {
   "display_name": "Python 3",
   "language": "python",
   "name": "python3"
  },
  "language_info": {
   "codemirror_mode": {
    "name": "ipython",
    "version": 3
   },
   "file_extension": ".py",
   "mimetype": "text/x-python",
   "name": "python",
   "nbconvert_exporter": "python",
   "pygments_lexer": "ipython3",
   "version": "3.7.9"
  }
 },
 "nbformat": 4,
 "nbformat_minor": 5
}
