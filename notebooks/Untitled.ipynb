{
 "cells": [
  {
   "cell_type": "code",
   "execution_count": 1,
   "id": "insured-david",
   "metadata": {},
   "outputs": [],
   "source": [
    "import torch\n",
    "from torch import nn\n",
    "from torch.nn import functional as F\n",
    "#mport torchvision\n",
    "#rom torchvision import models"
   ]
  },
  {
   "cell_type": "code",
   "execution_count": 2,
   "id": "sustainable-walker",
   "metadata": {},
   "outputs": [],
   "source": [
    "class PytorchMultiClass(nn.Module):\n",
    "    def __init__(self, num_features):\n",
    "        super(PytorchMultiClass, self).__init__()\n",
    "        \n",
    "        self.layer_1 = nn.Linear(num_features, 32)\n",
    "        self.layer_2 = nn.Linear(32,16)\n",
    "        self.layer_3 = nn.Linear(16,8)\n",
    "        self.layer_out = nn.Linear(8, 104) #Number of classes in target variable\n",
    "        self.softmax = nn.Softmax(dim=1)\n",
    "\n",
    "    def forward(self, x):\n",
    "        x = F.dropout(F.relu(self.layer_1(x)), training=self.training)\n",
    "        x = F.dropout(F.relu(self.layer_2(x)), training=self.training)\n",
    "        x = F.dropout(F.relu(self.layer_3(x)), training=self.training)\n",
    "        x = self.layer_out(x)\n",
    "        return self.softmax(x)"
   ]
  },
  {
   "cell_type": "code",
   "execution_count": 3,
   "id": "covered-teddy",
   "metadata": {},
   "outputs": [],
   "source": [
    "from torch import Tensor\n",
    "from numpy import argmax\n",
    "\n",
    "def predict(brewery_name: int, review_aroma: int, review_appearance:int, review_palate: int, review_taste: int):\n",
    "    features = [brewery_name, review_aroma, review_appearance, review_palate, review_taste]\n",
    "    # convert row to data\n",
    "    features = Tensor([features])\n",
    "    # make prediction\n",
    "    yhat = model(features)\n",
    "    # retrieve numpy array\n",
    "    yhat = yhat.detach().numpy()\n",
    "    return argmax(yhat)\n",
    "    #return JSONResponse(pred.tolist())"
   ]
  },
  {
   "cell_type": "code",
   "execution_count": 4,
   "id": "administrative-liquid",
   "metadata": {},
   "outputs": [],
   "source": [
    "model = torch.load(\"../models/beer_pred.pt\")"
   ]
  },
  {
   "cell_type": "code",
   "execution_count": 5,
   "id": "otherwise-riding",
   "metadata": {},
   "outputs": [
    {
     "data": {
      "text/plain": [
       "1"
      ]
     },
     "execution_count": 5,
     "metadata": {},
     "output_type": "execute_result"
    }
   ],
   "source": [
    "predict(brewery_name = 1687, review_aroma = 2.0, review_appearance = 2.5, review_palate = 2.5, review_taste = 2.5)"
   ]
  },
  {
   "cell_type": "code",
   "execution_count": null,
   "id": "welsh-importance",
   "metadata": {},
   "outputs": [],
   "source": [
    "class PytorchMultiClass(nn.Module):\n",
    "    def __init__(self, num_features):\n",
    "        super(PytorchMultiClass, self).__init__()\n",
    "        \n",
    "        self.layer_1 = nn.Linear(num_features, 32)\n",
    "        self.layer_out = nn.Linear(32, 104) #Number of classes in target variable?\n",
    "        self.softmax = nn.Softmax(dim=1)\n",
    "\n",
    "    def forward(self, x):\n",
    "        x = F.dropout(F.relu(self.layer_1(x)), training=self.training)\n",
    "        x = self.layer_out(x)\n",
    "        return self.softmax(x)"
   ]
  },
  {
   "cell_type": "code",
   "execution_count": null,
   "id": "macro-arrangement",
   "metadata": {},
   "outputs": [],
   "source": [
    "model = torch.load(\"../models/beer_pred.pt\", encoding='ascii')\n",
    "model"
   ]
  },
  {
   "cell_type": "code",
   "execution_count": null,
   "id": "amazing-dallas",
   "metadata": {},
   "outputs": [],
   "source": [
    "model.eval()"
   ]
  },
  {
   "cell_type": "code",
   "execution_count": null,
   "id": "animal-stupid",
   "metadata": {},
   "outputs": [],
   "source": [
    "with torch.no_grad()"
   ]
  },
  {
   "cell_type": "code",
   "execution_count": null,
   "id": "unnecessary-litigation",
   "metadata": {},
   "outputs": [],
   "source": [
    "# Get target containing class indices back\n",
    "torch.argmax(data, dim=1)"
   ]
  },
  {
   "cell_type": "code",
   "execution_count": null,
   "id": "color-desire",
   "metadata": {},
   "outputs": [],
   "source": []
  },
  {
   "cell_type": "code",
   "execution_count": null,
   "id": "computational-degree",
   "metadata": {},
   "outputs": [],
   "source": [
    "model = torch.load(\"../models/beer_pred.pt\", encoding='ascii')\n",
    "print(model)"
   ]
  },
  {
   "cell_type": "code",
   "execution_count": null,
   "id": "instant-madagascar",
   "metadata": {},
   "outputs": [],
   "source": [
    "from torchsummary import summary\n",
    "summary(model, (5, 104, 104))"
   ]
  },
  {
   "cell_type": "code",
   "execution_count": null,
   "id": "adjustable-queensland",
   "metadata": {},
   "outputs": [],
   "source": []
  }
 ],
 "metadata": {
  "kernelspec": {
   "display_name": "Python 3",
   "language": "python",
   "name": "python3"
  },
  "language_info": {
   "codemirror_mode": {
    "name": "ipython",
    "version": 3
   },
   "file_extension": ".py",
   "mimetype": "text/x-python",
   "name": "python",
   "nbconvert_exporter": "python",
   "pygments_lexer": "ipython3",
   "version": "3.7.9"
  }
 },
 "nbformat": 4,
 "nbformat_minor": 5
}
