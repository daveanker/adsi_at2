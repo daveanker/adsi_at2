import torch

model = torch.load("./models/beer_pred.pt")
#model.eval()
print(model)