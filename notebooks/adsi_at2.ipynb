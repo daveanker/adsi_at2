{
 "cells": [
  {
   "cell_type": "markdown",
   "id": "annoying-transaction",
   "metadata": {},
   "source": [
    "# Beer style prediction"
   ]
  },
  {
   "cell_type": "markdown",
   "id": "interested-october",
   "metadata": {},
   "source": [
    "## Set up environment"
   ]
  },
  {
   "cell_type": "code",
   "execution_count": 1,
   "id": "forward-reservation",
   "metadata": {},
   "outputs": [],
   "source": [
    "# Import modules\n",
    "import os\n",
    "import pandas as pd\n",
    "import numpy as np\n",
    "import matplotlib.pyplot as plt\n",
    "from joblib import dump\n",
    "from joblib import load\n",
    "from pandas_profiling import ProfileReport\n",
    "from sklearn.preprocessing import StandardScaler\n",
    "from sklearn.model_selection import train_test_split\n",
    "import torch\n",
    "from torch import nn\n",
    "from torch.nn import functional as F"
   ]
  },
  {
   "cell_type": "code",
   "execution_count": 2,
   "id": "insured-level",
   "metadata": {},
   "outputs": [
    {
     "data": {
      "text/plain": [
       "'C:\\\\Users\\\\David Anker\\\\Documents\\\\MDSI\\\\adsi\\\\projects\\\\adsi_at2\\\\notebooks'"
      ]
     },
     "execution_count": 2,
     "metadata": {},
     "output_type": "execute_result"
    }
   ],
   "source": [
    "os.getcwd()"
   ]
  },
  {
   "cell_type": "code",
   "execution_count": 3,
   "id": "interesting-worst",
   "metadata": {},
   "outputs": [
    {
     "data": {
      "text/plain": [
       "'C:\\\\Users\\\\David Anker\\\\Documents\\\\MDSI\\\\adsi\\\\projects\\\\adsi_at2'"
      ]
     },
     "execution_count": 3,
     "metadata": {},
     "output_type": "execute_result"
    }
   ],
   "source": [
    "os.chdir('../')\n",
    "os.getcwd()"
   ]
  },
  {
   "cell_type": "markdown",
   "id": "cubic-criticism",
   "metadata": {},
   "source": [
    "## Get data"
   ]
  },
  {
   "cell_type": "code",
   "execution_count": 4,
   "id": "strategic-printing",
   "metadata": {},
   "outputs": [],
   "source": [
    "# Load magic command for auto-reloading external modules\n",
    "%load_ext autoreload\n",
    "%autoreload 2"
   ]
  },
  {
   "cell_type": "code",
   "execution_count": 5,
   "id": "weighted-character",
   "metadata": {},
   "outputs": [
    {
     "data": {
      "text/html": [
       "<div>\n",
       "<style scoped>\n",
       "    .dataframe tbody tr th:only-of-type {\n",
       "        vertical-align: middle;\n",
       "    }\n",
       "\n",
       "    .dataframe tbody tr th {\n",
       "        vertical-align: top;\n",
       "    }\n",
       "\n",
       "    .dataframe thead th {\n",
       "        text-align: right;\n",
       "    }\n",
       "</style>\n",
       "<table border=\"1\" class=\"dataframe\">\n",
       "  <thead>\n",
       "    <tr style=\"text-align: right;\">\n",
       "      <th></th>\n",
       "      <th>brewery_id</th>\n",
       "      <th>brewery_name</th>\n",
       "      <th>review_time</th>\n",
       "      <th>review_overall</th>\n",
       "      <th>review_aroma</th>\n",
       "      <th>review_appearance</th>\n",
       "      <th>review_profilename</th>\n",
       "      <th>beer_style</th>\n",
       "      <th>review_palate</th>\n",
       "      <th>review_taste</th>\n",
       "      <th>beer_name</th>\n",
       "      <th>beer_abv</th>\n",
       "      <th>beer_beerid</th>\n",
       "    </tr>\n",
       "  </thead>\n",
       "  <tbody>\n",
       "    <tr>\n",
       "      <th>0</th>\n",
       "      <td>10325</td>\n",
       "      <td>Vecchio Birraio</td>\n",
       "      <td>1234817823</td>\n",
       "      <td>1.5</td>\n",
       "      <td>2.0</td>\n",
       "      <td>2.5</td>\n",
       "      <td>stcules</td>\n",
       "      <td>Hefeweizen</td>\n",
       "      <td>1.5</td>\n",
       "      <td>1.5</td>\n",
       "      <td>Sausa Weizen</td>\n",
       "      <td>5.0</td>\n",
       "      <td>47986</td>\n",
       "    </tr>\n",
       "    <tr>\n",
       "      <th>1</th>\n",
       "      <td>10325</td>\n",
       "      <td>Vecchio Birraio</td>\n",
       "      <td>1235915097</td>\n",
       "      <td>3.0</td>\n",
       "      <td>2.5</td>\n",
       "      <td>3.0</td>\n",
       "      <td>stcules</td>\n",
       "      <td>English Strong Ale</td>\n",
       "      <td>3.0</td>\n",
       "      <td>3.0</td>\n",
       "      <td>Red Moon</td>\n",
       "      <td>6.2</td>\n",
       "      <td>48213</td>\n",
       "    </tr>\n",
       "    <tr>\n",
       "      <th>2</th>\n",
       "      <td>10325</td>\n",
       "      <td>Vecchio Birraio</td>\n",
       "      <td>1235916604</td>\n",
       "      <td>3.0</td>\n",
       "      <td>2.5</td>\n",
       "      <td>3.0</td>\n",
       "      <td>stcules</td>\n",
       "      <td>Foreign / Export Stout</td>\n",
       "      <td>3.0</td>\n",
       "      <td>3.0</td>\n",
       "      <td>Black Horse Black Beer</td>\n",
       "      <td>6.5</td>\n",
       "      <td>48215</td>\n",
       "    </tr>\n",
       "    <tr>\n",
       "      <th>3</th>\n",
       "      <td>10325</td>\n",
       "      <td>Vecchio Birraio</td>\n",
       "      <td>1234725145</td>\n",
       "      <td>3.0</td>\n",
       "      <td>3.0</td>\n",
       "      <td>3.5</td>\n",
       "      <td>stcules</td>\n",
       "      <td>German Pilsener</td>\n",
       "      <td>2.5</td>\n",
       "      <td>3.0</td>\n",
       "      <td>Sausa Pils</td>\n",
       "      <td>5.0</td>\n",
       "      <td>47969</td>\n",
       "    </tr>\n",
       "    <tr>\n",
       "      <th>4</th>\n",
       "      <td>1075</td>\n",
       "      <td>Caldera Brewing Company</td>\n",
       "      <td>1293735206</td>\n",
       "      <td>4.0</td>\n",
       "      <td>4.5</td>\n",
       "      <td>4.0</td>\n",
       "      <td>johnmichaelsen</td>\n",
       "      <td>American Double / Imperial IPA</td>\n",
       "      <td>4.0</td>\n",
       "      <td>4.5</td>\n",
       "      <td>Cauldron DIPA</td>\n",
       "      <td>7.7</td>\n",
       "      <td>64883</td>\n",
       "    </tr>\n",
       "    <tr>\n",
       "      <th>...</th>\n",
       "      <td>...</td>\n",
       "      <td>...</td>\n",
       "      <td>...</td>\n",
       "      <td>...</td>\n",
       "      <td>...</td>\n",
       "      <td>...</td>\n",
       "      <td>...</td>\n",
       "      <td>...</td>\n",
       "      <td>...</td>\n",
       "      <td>...</td>\n",
       "      <td>...</td>\n",
       "      <td>...</td>\n",
       "      <td>...</td>\n",
       "    </tr>\n",
       "    <tr>\n",
       "      <th>1586609</th>\n",
       "      <td>14359</td>\n",
       "      <td>The Defiant Brewing Company</td>\n",
       "      <td>1162684892</td>\n",
       "      <td>5.0</td>\n",
       "      <td>4.0</td>\n",
       "      <td>3.5</td>\n",
       "      <td>maddogruss</td>\n",
       "      <td>Pumpkin Ale</td>\n",
       "      <td>4.0</td>\n",
       "      <td>4.0</td>\n",
       "      <td>The Horseman's Ale</td>\n",
       "      <td>5.2</td>\n",
       "      <td>33061</td>\n",
       "    </tr>\n",
       "    <tr>\n",
       "      <th>1586610</th>\n",
       "      <td>14359</td>\n",
       "      <td>The Defiant Brewing Company</td>\n",
       "      <td>1161048566</td>\n",
       "      <td>4.0</td>\n",
       "      <td>5.0</td>\n",
       "      <td>2.5</td>\n",
       "      <td>yelterdow</td>\n",
       "      <td>Pumpkin Ale</td>\n",
       "      <td>2.0</td>\n",
       "      <td>4.0</td>\n",
       "      <td>The Horseman's Ale</td>\n",
       "      <td>5.2</td>\n",
       "      <td>33061</td>\n",
       "    </tr>\n",
       "    <tr>\n",
       "      <th>1586611</th>\n",
       "      <td>14359</td>\n",
       "      <td>The Defiant Brewing Company</td>\n",
       "      <td>1160702513</td>\n",
       "      <td>4.5</td>\n",
       "      <td>3.5</td>\n",
       "      <td>3.0</td>\n",
       "      <td>TongoRad</td>\n",
       "      <td>Pumpkin Ale</td>\n",
       "      <td>3.5</td>\n",
       "      <td>4.0</td>\n",
       "      <td>The Horseman's Ale</td>\n",
       "      <td>5.2</td>\n",
       "      <td>33061</td>\n",
       "    </tr>\n",
       "    <tr>\n",
       "      <th>1586612</th>\n",
       "      <td>14359</td>\n",
       "      <td>The Defiant Brewing Company</td>\n",
       "      <td>1160023044</td>\n",
       "      <td>4.0</td>\n",
       "      <td>4.5</td>\n",
       "      <td>4.5</td>\n",
       "      <td>dherling</td>\n",
       "      <td>Pumpkin Ale</td>\n",
       "      <td>4.5</td>\n",
       "      <td>4.5</td>\n",
       "      <td>The Horseman's Ale</td>\n",
       "      <td>5.2</td>\n",
       "      <td>33061</td>\n",
       "    </tr>\n",
       "    <tr>\n",
       "      <th>1586613</th>\n",
       "      <td>14359</td>\n",
       "      <td>The Defiant Brewing Company</td>\n",
       "      <td>1160005319</td>\n",
       "      <td>5.0</td>\n",
       "      <td>4.5</td>\n",
       "      <td>4.5</td>\n",
       "      <td>cbl2</td>\n",
       "      <td>Pumpkin Ale</td>\n",
       "      <td>4.5</td>\n",
       "      <td>4.5</td>\n",
       "      <td>The Horseman's Ale</td>\n",
       "      <td>5.2</td>\n",
       "      <td>33061</td>\n",
       "    </tr>\n",
       "  </tbody>\n",
       "</table>\n",
       "<p>1586614 rows × 13 columns</p>\n",
       "</div>"
      ],
      "text/plain": [
       "         brewery_id                 brewery_name  review_time  review_overall  \\\n",
       "0             10325              Vecchio Birraio   1234817823             1.5   \n",
       "1             10325              Vecchio Birraio   1235915097             3.0   \n",
       "2             10325              Vecchio Birraio   1235916604             3.0   \n",
       "3             10325              Vecchio Birraio   1234725145             3.0   \n",
       "4              1075      Caldera Brewing Company   1293735206             4.0   \n",
       "...             ...                          ...          ...             ...   \n",
       "1586609       14359  The Defiant Brewing Company   1162684892             5.0   \n",
       "1586610       14359  The Defiant Brewing Company   1161048566             4.0   \n",
       "1586611       14359  The Defiant Brewing Company   1160702513             4.5   \n",
       "1586612       14359  The Defiant Brewing Company   1160023044             4.0   \n",
       "1586613       14359  The Defiant Brewing Company   1160005319             5.0   \n",
       "\n",
       "         review_aroma  review_appearance review_profilename  \\\n",
       "0                 2.0                2.5            stcules   \n",
       "1                 2.5                3.0            stcules   \n",
       "2                 2.5                3.0            stcules   \n",
       "3                 3.0                3.5            stcules   \n",
       "4                 4.5                4.0     johnmichaelsen   \n",
       "...               ...                ...                ...   \n",
       "1586609           4.0                3.5         maddogruss   \n",
       "1586610           5.0                2.5          yelterdow   \n",
       "1586611           3.5                3.0           TongoRad   \n",
       "1586612           4.5                4.5           dherling   \n",
       "1586613           4.5                4.5               cbl2   \n",
       "\n",
       "                             beer_style  review_palate  review_taste  \\\n",
       "0                            Hefeweizen            1.5           1.5   \n",
       "1                    English Strong Ale            3.0           3.0   \n",
       "2                Foreign / Export Stout            3.0           3.0   \n",
       "3                       German Pilsener            2.5           3.0   \n",
       "4        American Double / Imperial IPA            4.0           4.5   \n",
       "...                                 ...            ...           ...   \n",
       "1586609                     Pumpkin Ale            4.0           4.0   \n",
       "1586610                     Pumpkin Ale            2.0           4.0   \n",
       "1586611                     Pumpkin Ale            3.5           4.0   \n",
       "1586612                     Pumpkin Ale            4.5           4.5   \n",
       "1586613                     Pumpkin Ale            4.5           4.5   \n",
       "\n",
       "                      beer_name  beer_abv  beer_beerid  \n",
       "0                  Sausa Weizen       5.0        47986  \n",
       "1                      Red Moon       6.2        48213  \n",
       "2        Black Horse Black Beer       6.5        48215  \n",
       "3                    Sausa Pils       5.0        47969  \n",
       "4                 Cauldron DIPA       7.7        64883  \n",
       "...                         ...       ...          ...  \n",
       "1586609      The Horseman's Ale       5.2        33061  \n",
       "1586610      The Horseman's Ale       5.2        33061  \n",
       "1586611      The Horseman's Ale       5.2        33061  \n",
       "1586612      The Horseman's Ale       5.2        33061  \n",
       "1586613      The Horseman's Ale       5.2        33061  \n",
       "\n",
       "[1586614 rows x 13 columns]"
      ]
     },
     "metadata": {},
     "output_type": "display_data"
    }
   ],
   "source": [
    "# Turn off table squishing\n",
    "pd.options.display.max_columns = None\n",
    "\n",
    "# Import data\n",
    "df = pd.read_csv(\"./data/raw/beer_reviews.csv\")\n",
    "\n",
    "# Check data\n",
    "display(df)"
   ]
  },
  {
   "cell_type": "markdown",
   "id": "engaging-litigation",
   "metadata": {},
   "source": [
    "## Check data"
   ]
  },
  {
   "cell_type": "code",
   "execution_count": 6,
   "id": "athletic-india",
   "metadata": {},
   "outputs": [],
   "source": [
    "# Generate Data Dictionary\n",
    "# Direct copy & paste from Assignment 2 Brief\n",
    "\n",
    "DataDict = \\\n",
    "    { \"brewery_id\": \"Identifier of brewery\"\n",
    "    , \"brewery_name\": \"Name of brewery\"\n",
    "    , \"review_time\": \"Timestamp of review\"\n",
    "    , \"review_overall\": \"Overall score given by reviewer\"\n",
    "    , \"review_aroma\": \"Score given by reviewer regarding beer aroma\"\n",
    "    , \"review_appearance\": \"Score given by reviewer regarding beer appearance\"\n",
    "    , \"review_profilename\": \"Profile name of reviewer\"\n",
    "    , \"review_palate\": \"Score given by reviewer regarding beer palate\"\n",
    "    , \"review_taste\": \"Score given by reviewer regarding beer taste\"\n",
    "    , \"beer_style (target)\": \"Type of beer\"\n",
    "    , \"beer_name\": \"Name of beer\"\n",
    "    , \"beer_abv\": \"Alcohol by volume measure\"\n",
    "    , \"beer_beerid\": \"Identifier of beer\"\n",
    "    }"
   ]
  },
  {
   "cell_type": "code",
   "execution_count": 7,
   "id": "organizational-forestry",
   "metadata": {},
   "outputs": [
    {
     "name": "stdout",
     "output_type": "stream",
     "text": [
      "<class 'pandas.core.frame.DataFrame'>\n",
      "RangeIndex: 1586614 entries, 0 to 1586613\n",
      "Data columns (total 13 columns):\n",
      " #   Column              Non-Null Count    Dtype  \n",
      "---  ------              --------------    -----  \n",
      " 0   brewery_id          1586614 non-null  int64  \n",
      " 1   brewery_name        1586599 non-null  object \n",
      " 2   review_time         1586614 non-null  int64  \n",
      " 3   review_overall      1586614 non-null  float64\n",
      " 4   review_aroma        1586614 non-null  float64\n",
      " 5   review_appearance   1586614 non-null  float64\n",
      " 6   review_profilename  1586266 non-null  object \n",
      " 7   beer_style          1586614 non-null  object \n",
      " 8   review_palate       1586614 non-null  float64\n",
      " 9   review_taste        1586614 non-null  float64\n",
      " 10  beer_name           1586614 non-null  object \n",
      " 11  beer_abv            1518829 non-null  float64\n",
      " 12  beer_beerid         1586614 non-null  int64  \n",
      "dtypes: float64(6), int64(3), object(4)\n",
      "memory usage: 157.4+ MB\n"
     ]
    }
   ],
   "source": [
    "df.info()"
   ]
  },
  {
   "cell_type": "code",
   "execution_count": 8,
   "id": "hawaiian-indonesian",
   "metadata": {},
   "outputs": [
    {
     "data": {
      "text/html": [
       "<div>\n",
       "<style scoped>\n",
       "    .dataframe tbody tr th:only-of-type {\n",
       "        vertical-align: middle;\n",
       "    }\n",
       "\n",
       "    .dataframe tbody tr th {\n",
       "        vertical-align: top;\n",
       "    }\n",
       "\n",
       "    .dataframe thead th {\n",
       "        text-align: right;\n",
       "    }\n",
       "</style>\n",
       "<table border=\"1\" class=\"dataframe\">\n",
       "  <thead>\n",
       "    <tr style=\"text-align: right;\">\n",
       "      <th></th>\n",
       "      <th>brewery_id</th>\n",
       "      <th>review_time</th>\n",
       "      <th>review_overall</th>\n",
       "      <th>review_aroma</th>\n",
       "      <th>review_appearance</th>\n",
       "      <th>review_palate</th>\n",
       "      <th>review_taste</th>\n",
       "      <th>beer_abv</th>\n",
       "      <th>beer_beerid</th>\n",
       "    </tr>\n",
       "  </thead>\n",
       "  <tbody>\n",
       "    <tr>\n",
       "      <th>count</th>\n",
       "      <td>1.586614e+06</td>\n",
       "      <td>1.586614e+06</td>\n",
       "      <td>1.586614e+06</td>\n",
       "      <td>1.586614e+06</td>\n",
       "      <td>1.586614e+06</td>\n",
       "      <td>1.586614e+06</td>\n",
       "      <td>1.586614e+06</td>\n",
       "      <td>1.518829e+06</td>\n",
       "      <td>1.586614e+06</td>\n",
       "    </tr>\n",
       "    <tr>\n",
       "      <th>mean</th>\n",
       "      <td>3.130099e+03</td>\n",
       "      <td>1.224089e+09</td>\n",
       "      <td>3.815581e+00</td>\n",
       "      <td>3.735636e+00</td>\n",
       "      <td>3.841642e+00</td>\n",
       "      <td>3.743701e+00</td>\n",
       "      <td>3.792860e+00</td>\n",
       "      <td>7.042387e+00</td>\n",
       "      <td>2.171279e+04</td>\n",
       "    </tr>\n",
       "    <tr>\n",
       "      <th>std</th>\n",
       "      <td>5.578104e+03</td>\n",
       "      <td>7.654427e+07</td>\n",
       "      <td>7.206219e-01</td>\n",
       "      <td>6.976167e-01</td>\n",
       "      <td>6.160928e-01</td>\n",
       "      <td>6.822184e-01</td>\n",
       "      <td>7.319696e-01</td>\n",
       "      <td>2.322526e+00</td>\n",
       "      <td>2.181834e+04</td>\n",
       "    </tr>\n",
       "    <tr>\n",
       "      <th>min</th>\n",
       "      <td>1.000000e+00</td>\n",
       "      <td>8.406720e+08</td>\n",
       "      <td>0.000000e+00</td>\n",
       "      <td>1.000000e+00</td>\n",
       "      <td>0.000000e+00</td>\n",
       "      <td>1.000000e+00</td>\n",
       "      <td>1.000000e+00</td>\n",
       "      <td>1.000000e-02</td>\n",
       "      <td>3.000000e+00</td>\n",
       "    </tr>\n",
       "    <tr>\n",
       "      <th>25%</th>\n",
       "      <td>1.430000e+02</td>\n",
       "      <td>1.173224e+09</td>\n",
       "      <td>3.500000e+00</td>\n",
       "      <td>3.500000e+00</td>\n",
       "      <td>3.500000e+00</td>\n",
       "      <td>3.500000e+00</td>\n",
       "      <td>3.500000e+00</td>\n",
       "      <td>5.200000e+00</td>\n",
       "      <td>1.717000e+03</td>\n",
       "    </tr>\n",
       "    <tr>\n",
       "      <th>50%</th>\n",
       "      <td>4.290000e+02</td>\n",
       "      <td>1.239203e+09</td>\n",
       "      <td>4.000000e+00</td>\n",
       "      <td>4.000000e+00</td>\n",
       "      <td>4.000000e+00</td>\n",
       "      <td>4.000000e+00</td>\n",
       "      <td>4.000000e+00</td>\n",
       "      <td>6.500000e+00</td>\n",
       "      <td>1.390600e+04</td>\n",
       "    </tr>\n",
       "    <tr>\n",
       "      <th>75%</th>\n",
       "      <td>2.372000e+03</td>\n",
       "      <td>1.288568e+09</td>\n",
       "      <td>4.500000e+00</td>\n",
       "      <td>4.000000e+00</td>\n",
       "      <td>4.000000e+00</td>\n",
       "      <td>4.000000e+00</td>\n",
       "      <td>4.500000e+00</td>\n",
       "      <td>8.500000e+00</td>\n",
       "      <td>3.944100e+04</td>\n",
       "    </tr>\n",
       "    <tr>\n",
       "      <th>max</th>\n",
       "      <td>2.800300e+04</td>\n",
       "      <td>1.326285e+09</td>\n",
       "      <td>5.000000e+00</td>\n",
       "      <td>5.000000e+00</td>\n",
       "      <td>5.000000e+00</td>\n",
       "      <td>5.000000e+00</td>\n",
       "      <td>5.000000e+00</td>\n",
       "      <td>5.770000e+01</td>\n",
       "      <td>7.731700e+04</td>\n",
       "    </tr>\n",
       "  </tbody>\n",
       "</table>\n",
       "</div>"
      ],
      "text/plain": [
       "         brewery_id   review_time  review_overall  review_aroma  \\\n",
       "count  1.586614e+06  1.586614e+06    1.586614e+06  1.586614e+06   \n",
       "mean   3.130099e+03  1.224089e+09    3.815581e+00  3.735636e+00   \n",
       "std    5.578104e+03  7.654427e+07    7.206219e-01  6.976167e-01   \n",
       "min    1.000000e+00  8.406720e+08    0.000000e+00  1.000000e+00   \n",
       "25%    1.430000e+02  1.173224e+09    3.500000e+00  3.500000e+00   \n",
       "50%    4.290000e+02  1.239203e+09    4.000000e+00  4.000000e+00   \n",
       "75%    2.372000e+03  1.288568e+09    4.500000e+00  4.000000e+00   \n",
       "max    2.800300e+04  1.326285e+09    5.000000e+00  5.000000e+00   \n",
       "\n",
       "       review_appearance  review_palate  review_taste      beer_abv  \\\n",
       "count       1.586614e+06   1.586614e+06  1.586614e+06  1.518829e+06   \n",
       "mean        3.841642e+00   3.743701e+00  3.792860e+00  7.042387e+00   \n",
       "std         6.160928e-01   6.822184e-01  7.319696e-01  2.322526e+00   \n",
       "min         0.000000e+00   1.000000e+00  1.000000e+00  1.000000e-02   \n",
       "25%         3.500000e+00   3.500000e+00  3.500000e+00  5.200000e+00   \n",
       "50%         4.000000e+00   4.000000e+00  4.000000e+00  6.500000e+00   \n",
       "75%         4.000000e+00   4.000000e+00  4.500000e+00  8.500000e+00   \n",
       "max         5.000000e+00   5.000000e+00  5.000000e+00  5.770000e+01   \n",
       "\n",
       "        beer_beerid  \n",
       "count  1.586614e+06  \n",
       "mean   2.171279e+04  \n",
       "std    2.181834e+04  \n",
       "min    3.000000e+00  \n",
       "25%    1.717000e+03  \n",
       "50%    1.390600e+04  \n",
       "75%    3.944100e+04  \n",
       "max    7.731700e+04  "
      ]
     },
     "execution_count": 8,
     "metadata": {},
     "output_type": "execute_result"
    }
   ],
   "source": [
    "df.describe()"
   ]
  },
  {
   "cell_type": "code",
   "execution_count": 9,
   "id": "valid-order",
   "metadata": {},
   "outputs": [
    {
     "data": {
      "application/vnd.jupyter.widget-view+json": {
       "model_id": "70463d5dbd3b42478fc859462eb50850",
       "version_major": 2,
       "version_minor": 0
      },
      "text/plain": [
       "Summarize dataset:   0%|          | 0/21 [00:00<?, ?it/s]"
      ]
     },
     "metadata": {},
     "output_type": "display_data"
    },
    {
     "data": {
      "application/vnd.jupyter.widget-view+json": {
       "model_id": "769c573a2f5d4e65834ffe25a843c1a8",
       "version_major": 2,
       "version_minor": 0
      },
      "text/plain": [
       "Generate report structure:   0%|          | 0/1 [00:00<?, ?it/s]"
      ]
     },
     "metadata": {},
     "output_type": "display_data"
    },
    {
     "data": {
      "application/vnd.jupyter.widget-view+json": {
       "model_id": "c478399eb1de41368fc081fcb0b7f36a",
       "version_major": 2,
       "version_minor": 0
      },
      "text/plain": [
       "Render HTML:   0%|          | 0/1 [00:00<?, ?it/s]"
      ]
     },
     "metadata": {},
     "output_type": "display_data"
    },
    {
     "data": {
      "application/vnd.jupyter.widget-view+json": {
       "model_id": "66595aef9616499083884c9b808e1fd5",
       "version_major": 2,
       "version_minor": 0
      },
      "text/plain": [
       "Export report to file:   0%|          | 0/1 [00:00<?, ?it/s]"
      ]
     },
     "metadata": {},
     "output_type": "display_data"
    }
   ],
   "source": [
    "# View data profile\n",
    "\n",
    "# Create profile report\n",
    "profile = ProfileReport(df, title=\"Profile Report\", minimal=True)\n",
    "# Export\n",
    "profile.to_file('./reports/InitialReport.html')\n",
    "# View\n",
    "#profile"
   ]
  },
  {
   "cell_type": "code",
   "execution_count": 10,
   "id": "lonely-yeast",
   "metadata": {},
   "outputs": [
    {
     "name": "stdout",
     "output_type": "stream",
     "text": [
      "brewery_id                0\n",
      "brewery_name             15\n",
      "review_time               0\n",
      "review_overall            0\n",
      "review_aroma              0\n",
      "review_appearance         0\n",
      "review_profilename      348\n",
      "beer_style                0\n",
      "review_palate             0\n",
      "review_taste              0\n",
      "beer_name                 0\n",
      "beer_abv              67785\n",
      "beer_beerid               0\n",
      "dtype: int64\n"
     ]
    }
   ],
   "source": [
    "# Identify any null values by variable\n",
    "print(df.isnull().sum())"
   ]
  },
  {
   "cell_type": "code",
   "execution_count": 11,
   "id": "approved-allah",
   "metadata": {},
   "outputs": [
    {
     "name": "stdout",
     "output_type": "stream",
     "text": [
      "Duplicates: 24882\n"
     ]
    }
   ],
   "source": [
    "# Identify any duplicate observations (ie same reviewer rating the same beer multiple times)\n",
    "df_dupe = df.sort_values('review_overall', ascending=False)\n",
    "df_dupe = df_dupe.drop_duplicates(['review_profilename', 'beer_name'], keep='first')\n",
    "print('Duplicates:',len(df)-len(df_dupe))"
   ]
  },
  {
   "cell_type": "code",
   "execution_count": 12,
   "id": "falling-somalia",
   "metadata": {},
   "outputs": [
    {
     "data": {
      "image/png": "[encoded data removed]",
      "text/plain": [
       "<Figure size 864x864 with 9 Axes>"
      ]
     },
     "metadata": {
      "needs_background": "light"
     },
     "output_type": "display_data"
    }
   ],
   "source": [
    "# Show distribution of numerical variables\n",
    "import matplotlib.pyplot as plt\n",
    "\n",
    "df.hist(figsize=(12,12))\n",
    "plt.show()"
   ]
  },
  {
   "cell_type": "code",
   "execution_count": 13,
   "id": "municipal-intake",
   "metadata": {},
   "outputs": [
    {
     "data": {
      "text/html": [
       "<div>\n",
       "<style scoped>\n",
       "    .dataframe tbody tr th:only-of-type {\n",
       "        vertical-align: middle;\n",
       "    }\n",
       "\n",
       "    .dataframe tbody tr th {\n",
       "        vertical-align: top;\n",
       "    }\n",
       "\n",
       "    .dataframe thead th {\n",
       "        text-align: right;\n",
       "    }\n",
       "</style>\n",
       "<table border=\"1\" class=\"dataframe\">\n",
       "  <thead>\n",
       "    <tr style=\"text-align: right;\">\n",
       "      <th></th>\n",
       "      <th>review_profilename</th>\n",
       "      <th>reviews</th>\n",
       "    </tr>\n",
       "  </thead>\n",
       "  <tbody>\n",
       "    <tr>\n",
       "      <th>0</th>\n",
       "      <td>northyorksammy</td>\n",
       "      <td>5817</td>\n",
       "    </tr>\n",
       "    <tr>\n",
       "      <th>1</th>\n",
       "      <td>BuckeyeNation</td>\n",
       "      <td>4661</td>\n",
       "    </tr>\n",
       "    <tr>\n",
       "      <th>2</th>\n",
       "      <td>mikesgroove</td>\n",
       "      <td>4617</td>\n",
       "    </tr>\n",
       "    <tr>\n",
       "      <th>3</th>\n",
       "      <td>Thorpe429</td>\n",
       "      <td>3518</td>\n",
       "    </tr>\n",
       "    <tr>\n",
       "      <th>4</th>\n",
       "      <td>womencantsail</td>\n",
       "      <td>3497</td>\n",
       "    </tr>\n",
       "    <tr>\n",
       "      <th>...</th>\n",
       "      <td>...</td>\n",
       "      <td>...</td>\n",
       "    </tr>\n",
       "    <tr>\n",
       "      <th>33382</th>\n",
       "      <td>clwaldin</td>\n",
       "      <td>1</td>\n",
       "    </tr>\n",
       "    <tr>\n",
       "      <th>33383</th>\n",
       "      <td>cm1165</td>\n",
       "      <td>1</td>\n",
       "    </tr>\n",
       "    <tr>\n",
       "      <th>33384</th>\n",
       "      <td>cmartin45</td>\n",
       "      <td>1</td>\n",
       "    </tr>\n",
       "    <tr>\n",
       "      <th>33385</th>\n",
       "      <td>cmaude</td>\n",
       "      <td>1</td>\n",
       "    </tr>\n",
       "    <tr>\n",
       "      <th>33386</th>\n",
       "      <td>zzajjber</td>\n",
       "      <td>1</td>\n",
       "    </tr>\n",
       "  </tbody>\n",
       "</table>\n",
       "<p>33387 rows × 2 columns</p>\n",
       "</div>"
      ],
      "text/plain": [
       "      review_profilename  reviews\n",
       "0         northyorksammy     5817\n",
       "1          BuckeyeNation     4661\n",
       "2            mikesgroove     4617\n",
       "3              Thorpe429     3518\n",
       "4          womencantsail     3497\n",
       "...                  ...      ...\n",
       "33382           clwaldin        1\n",
       "33383             cm1165        1\n",
       "33384          cmartin45        1\n",
       "33385             cmaude        1\n",
       "33386           zzajjber        1\n",
       "\n",
       "[33387 rows x 2 columns]"
      ]
     },
     "execution_count": 13,
     "metadata": {},
     "output_type": "execute_result"
    }
   ],
   "source": [
    "# Reviewers\n",
    "df.value_counts(['review_profilename']).reset_index(name='reviews')"
   ]
  },
  {
   "cell_type": "code",
   "execution_count": 14,
   "id": "quarterly-separate",
   "metadata": {},
   "outputs": [
    {
     "data": {
      "text/html": [
       "<div>\n",
       "<style scoped>\n",
       "    .dataframe tbody tr th:only-of-type {\n",
       "        vertical-align: middle;\n",
       "    }\n",
       "\n",
       "    .dataframe tbody tr th {\n",
       "        vertical-align: top;\n",
       "    }\n",
       "\n",
       "    .dataframe thead th {\n",
       "        text-align: right;\n",
       "    }\n",
       "</style>\n",
       "<table border=\"1\" class=\"dataframe\">\n",
       "  <thead>\n",
       "    <tr style=\"text-align: right;\">\n",
       "      <th></th>\n",
       "      <th>brewery_name</th>\n",
       "      <th>reviews</th>\n",
       "    </tr>\n",
       "  </thead>\n",
       "  <tbody>\n",
       "    <tr>\n",
       "      <th>0</th>\n",
       "      <td>Boston Beer Company (Samuel Adams)</td>\n",
       "      <td>39444</td>\n",
       "    </tr>\n",
       "    <tr>\n",
       "      <th>1</th>\n",
       "      <td>Dogfish Head Brewery</td>\n",
       "      <td>33839</td>\n",
       "    </tr>\n",
       "    <tr>\n",
       "      <th>2</th>\n",
       "      <td>Stone Brewing Co.</td>\n",
       "      <td>33066</td>\n",
       "    </tr>\n",
       "    <tr>\n",
       "      <th>3</th>\n",
       "      <td>Sierra Nevada Brewing Co.</td>\n",
       "      <td>28751</td>\n",
       "    </tr>\n",
       "    <tr>\n",
       "      <th>4</th>\n",
       "      <td>Bell's Brewery, Inc.</td>\n",
       "      <td>25191</td>\n",
       "    </tr>\n",
       "    <tr>\n",
       "      <th>...</th>\n",
       "      <td>...</td>\n",
       "      <td>...</td>\n",
       "    </tr>\n",
       "    <tr>\n",
       "      <th>5737</th>\n",
       "      <td>Science Infuse</td>\n",
       "      <td>1</td>\n",
       "    </tr>\n",
       "    <tr>\n",
       "      <th>5738</th>\n",
       "      <td>Bir&amp;#371; Alus</td>\n",
       "      <td>1</td>\n",
       "    </tr>\n",
       "    <tr>\n",
       "      <th>5739</th>\n",
       "      <td>Birrificio Valscura</td>\n",
       "      <td>1</td>\n",
       "    </tr>\n",
       "    <tr>\n",
       "      <th>5740</th>\n",
       "      <td>Calwer-Eck-Bräu GmbH &amp; Co. KG</td>\n",
       "      <td>1</td>\n",
       "    </tr>\n",
       "    <tr>\n",
       "      <th>5741</th>\n",
       "      <td>Łódzkie Browary S.A.</td>\n",
       "      <td>1</td>\n",
       "    </tr>\n",
       "  </tbody>\n",
       "</table>\n",
       "<p>5742 rows × 2 columns</p>\n",
       "</div>"
      ],
      "text/plain": [
       "                            brewery_name  reviews\n",
       "0     Boston Beer Company (Samuel Adams)    39444\n",
       "1                   Dogfish Head Brewery    33839\n",
       "2                      Stone Brewing Co.    33066\n",
       "3              Sierra Nevada Brewing Co.    28751\n",
       "4                   Bell's Brewery, Inc.    25191\n",
       "...                                  ...      ...\n",
       "5737                      Science Infuse        1\n",
       "5738                     Bir&#371; Alus        1\n",
       "5739                 Birrificio Valscura        1\n",
       "5740       Calwer-Eck-Bräu GmbH & Co. KG        1\n",
       "5741                Łódzkie Browary S.A.        1\n",
       "\n",
       "[5742 rows x 2 columns]"
      ]
     },
     "execution_count": 14,
     "metadata": {},
     "output_type": "execute_result"
    }
   ],
   "source": [
    "# Brewery name count\n",
    "df.value_counts(['brewery_name']).reset_index(name='reviews')"
   ]
  },
  {
   "cell_type": "code",
   "execution_count": 15,
   "id": "motivated-variance",
   "metadata": {},
   "outputs": [
    {
     "data": {
      "text/html": [
       "<div>\n",
       "<style scoped>\n",
       "    .dataframe tbody tr th:only-of-type {\n",
       "        vertical-align: middle;\n",
       "    }\n",
       "\n",
       "    .dataframe tbody tr th {\n",
       "        vertical-align: top;\n",
       "    }\n",
       "\n",
       "    .dataframe thead th {\n",
       "        text-align: right;\n",
       "    }\n",
       "</style>\n",
       "<table border=\"1\" class=\"dataframe\">\n",
       "  <thead>\n",
       "    <tr style=\"text-align: right;\">\n",
       "      <th></th>\n",
       "      <th>brewery_name</th>\n",
       "      <th>beer_style count</th>\n",
       "    </tr>\n",
       "  </thead>\n",
       "  <tbody>\n",
       "    <tr>\n",
       "      <th>4473</th>\n",
       "      <td>Rock Bottom Restaurant &amp; Brewery</td>\n",
       "      <td>86</td>\n",
       "    </tr>\n",
       "    <tr>\n",
       "      <th>2960</th>\n",
       "      <td>John Harvard's Brewery &amp; Ale House</td>\n",
       "      <td>83</td>\n",
       "    </tr>\n",
       "    <tr>\n",
       "      <th>2885</th>\n",
       "      <td>Iron Hill Brewery &amp; Restaurant</td>\n",
       "      <td>83</td>\n",
       "    </tr>\n",
       "    <tr>\n",
       "      <th>2417</th>\n",
       "      <td>Goose Island Beer Co.</td>\n",
       "      <td>67</td>\n",
       "    </tr>\n",
       "    <tr>\n",
       "      <th>402</th>\n",
       "      <td>Beer Works</td>\n",
       "      <td>67</td>\n",
       "    </tr>\n",
       "    <tr>\n",
       "      <th>...</th>\n",
       "      <td>...</td>\n",
       "      <td>...</td>\n",
       "    </tr>\n",
       "    <tr>\n",
       "      <th>813</th>\n",
       "      <td>Brasserie Des Monts</td>\n",
       "      <td>1</td>\n",
       "    </tr>\n",
       "    <tr>\n",
       "      <th>4792</th>\n",
       "      <td>Smolenskoye Pivo</td>\n",
       "      <td>1</td>\n",
       "    </tr>\n",
       "    <tr>\n",
       "      <th>4790</th>\n",
       "      <td>Smokehouse Winery</td>\n",
       "      <td>1</td>\n",
       "    </tr>\n",
       "    <tr>\n",
       "      <th>3614</th>\n",
       "      <td>Mill Creek Brewpub</td>\n",
       "      <td>1</td>\n",
       "    </tr>\n",
       "    <tr>\n",
       "      <th>5741</th>\n",
       "      <td>Łódzkie Browary S.A.</td>\n",
       "      <td>1</td>\n",
       "    </tr>\n",
       "  </tbody>\n",
       "</table>\n",
       "<p>5742 rows × 2 columns</p>\n",
       "</div>"
      ],
      "text/plain": [
       "                            brewery_name  beer_style count\n",
       "4473    Rock Bottom Restaurant & Brewery                86\n",
       "2960  John Harvard's Brewery & Ale House                83\n",
       "2885      Iron Hill Brewery & Restaurant                83\n",
       "2417               Goose Island Beer Co.                67\n",
       "402                           Beer Works                67\n",
       "...                                  ...               ...\n",
       "813                  Brasserie Des Monts                 1\n",
       "4792                    Smolenskoye Pivo                 1\n",
       "4790                   Smokehouse Winery                 1\n",
       "3614                  Mill Creek Brewpub                 1\n",
       "5741                Łódzkie Browary S.A.                 1\n",
       "\n",
       "[5742 rows x 2 columns]"
      ]
     },
     "execution_count": 15,
     "metadata": {},
     "output_type": "execute_result"
    }
   ],
   "source": [
    "# Beer_styles per brewery\n",
    "df.groupby('brewery_name')['beer_style'].nunique().reset_index(name='beer_style count').sort_values(by='beer_style count', ascending=False)"
   ]
  },
  {
   "cell_type": "code",
   "execution_count": 16,
   "id": "increasing-assumption",
   "metadata": {},
   "outputs": [
    {
     "data": {
      "text/html": [
       "<div>\n",
       "<style scoped>\n",
       "    .dataframe tbody tr th:only-of-type {\n",
       "        vertical-align: middle;\n",
       "    }\n",
       "\n",
       "    .dataframe tbody tr th {\n",
       "        vertical-align: top;\n",
       "    }\n",
       "\n",
       "    .dataframe thead th {\n",
       "        text-align: right;\n",
       "    }\n",
       "</style>\n",
       "<table border=\"1\" class=\"dataframe\">\n",
       "  <thead>\n",
       "    <tr style=\"text-align: right;\">\n",
       "      <th></th>\n",
       "      <th>beer_style</th>\n",
       "      <th>beer_count</th>\n",
       "      <th>brewery count</th>\n",
       "      <th>review_count</th>\n",
       "      <th>reviewer_count</th>\n",
       "      <th>avg review_overall</th>\n",
       "    </tr>\n",
       "  </thead>\n",
       "  <tbody>\n",
       "    <tr>\n",
       "      <th>0</th>\n",
       "      <td>American IPA</td>\n",
       "      <td>3599</td>\n",
       "      <td>1606</td>\n",
       "      <td>117586</td>\n",
       "      <td>12480</td>\n",
       "      <td>3.965221</td>\n",
       "    </tr>\n",
       "    <tr>\n",
       "      <th>1</th>\n",
       "      <td>American Pale Ale (APA)</td>\n",
       "      <td>3330</td>\n",
       "      <td>1691</td>\n",
       "      <td>63469</td>\n",
       "      <td>9252</td>\n",
       "      <td>3.852306</td>\n",
       "    </tr>\n",
       "    <tr>\n",
       "      <th>2</th>\n",
       "      <td>American Amber / Red Ale</td>\n",
       "      <td>2500</td>\n",
       "      <td>1478</td>\n",
       "      <td>45751</td>\n",
       "      <td>8337</td>\n",
       "      <td>3.781010</td>\n",
       "    </tr>\n",
       "    <tr>\n",
       "      <th>3</th>\n",
       "      <td>American Porter</td>\n",
       "      <td>2188</td>\n",
       "      <td>1222</td>\n",
       "      <td>50477</td>\n",
       "      <td>8464</td>\n",
       "      <td>3.895735</td>\n",
       "    </tr>\n",
       "    <tr>\n",
       "      <th>4</th>\n",
       "      <td>Fruit / Vegetable Beer</td>\n",
       "      <td>1833</td>\n",
       "      <td>1014</td>\n",
       "      <td>33861</td>\n",
       "      <td>7336</td>\n",
       "      <td>3.415124</td>\n",
       "    </tr>\n",
       "    <tr>\n",
       "      <th>...</th>\n",
       "      <td>...</td>\n",
       "      <td>...</td>\n",
       "      <td>...</td>\n",
       "      <td>...</td>\n",
       "      <td>...</td>\n",
       "      <td>...</td>\n",
       "    </tr>\n",
       "    <tr>\n",
       "      <th>99</th>\n",
       "      <td>Kvass</td>\n",
       "      <td>44</td>\n",
       "      <td>25</td>\n",
       "      <td>297</td>\n",
       "      <td>157</td>\n",
       "      <td>3.355219</td>\n",
       "    </tr>\n",
       "    <tr>\n",
       "      <th>100</th>\n",
       "      <td>Gose</td>\n",
       "      <td>33</td>\n",
       "      <td>25</td>\n",
       "      <td>686</td>\n",
       "      <td>551</td>\n",
       "      <td>3.965015</td>\n",
       "    </tr>\n",
       "    <tr>\n",
       "      <th>101</th>\n",
       "      <td>Sahti</td>\n",
       "      <td>28</td>\n",
       "      <td>21</td>\n",
       "      <td>1061</td>\n",
       "      <td>832</td>\n",
       "      <td>3.700283</td>\n",
       "    </tr>\n",
       "    <tr>\n",
       "      <th>102</th>\n",
       "      <td>Bière de Champagne / Bière Brut</td>\n",
       "      <td>20</td>\n",
       "      <td>13</td>\n",
       "      <td>1046</td>\n",
       "      <td>815</td>\n",
       "      <td>3.648184</td>\n",
       "    </tr>\n",
       "    <tr>\n",
       "      <th>103</th>\n",
       "      <td>Faro</td>\n",
       "      <td>19</td>\n",
       "      <td>13</td>\n",
       "      <td>609</td>\n",
       "      <td>484</td>\n",
       "      <td>3.600164</td>\n",
       "    </tr>\n",
       "  </tbody>\n",
       "</table>\n",
       "<p>104 rows × 6 columns</p>\n",
       "</div>"
      ],
      "text/plain": [
       "                          beer_style  beer_count  brewery count  review_count  \\\n",
       "0                       American IPA        3599           1606        117586   \n",
       "1            American Pale Ale (APA)        3330           1691         63469   \n",
       "2           American Amber / Red Ale        2500           1478         45751   \n",
       "3                    American Porter        2188           1222         50477   \n",
       "4             Fruit / Vegetable Beer        1833           1014         33861   \n",
       "..                               ...         ...            ...           ...   \n",
       "99                             Kvass          44             25           297   \n",
       "100                             Gose          33             25           686   \n",
       "101                            Sahti          28             21          1061   \n",
       "102  Bière de Champagne / Bière Brut          20             13          1046   \n",
       "103                             Faro          19             13           609   \n",
       "\n",
       "     reviewer_count  avg review_overall  \n",
       "0             12480            3.965221  \n",
       "1              9252            3.852306  \n",
       "2              8337            3.781010  \n",
       "3              8464            3.895735  \n",
       "4              7336            3.415124  \n",
       "..              ...                 ...  \n",
       "99              157            3.355219  \n",
       "100             551            3.965015  \n",
       "101             832            3.700283  \n",
       "102             815            3.648184  \n",
       "103             484            3.600164  \n",
       "\n",
       "[104 rows x 6 columns]"
      ]
     },
     "execution_count": 16,
     "metadata": {},
     "output_type": "execute_result"
    }
   ],
   "source": [
    "# Summary table by beer_style target class\n",
    "\n",
    "# Beers per beer_style\n",
    "df_beers = df[['beer_name', 'brewery_name', 'beer_style', 'beer_abv']].drop_duplicates()\n",
    "beers = df_beers.value_counts(['beer_style']).reset_index(name='beer_count')\n",
    "\n",
    "# Breweries per beer_style\n",
    "breweries = df.groupby('beer_style')['brewery_name'].nunique().reset_index(name='brewery count')\n",
    "\n",
    "# Reviews per beer_style\n",
    "reviews = df.groupby('beer_style')['review_overall'].count().reset_index(name='review_count')\n",
    "\n",
    "# Reviewers per beer_style\n",
    "reviewers = df.groupby('beer_style')['review_profilename'].nunique().reset_index(name='reviewer_count')\n",
    "\n",
    "# Average review_overall per beer_style\n",
    "avg = df.groupby('beer_style')['review_overall'].mean().reset_index(name='avg review_overall')\n",
    "\n",
    "# Merged dataframe\n",
    "beer_style_summary = beers.merge(right=breweries, how='left', on='beer_style')\n",
    "beer_style_summary = beer_style_summary.merge(right=reviews, how='left', on='beer_style')\n",
    "beer_style_summary = beer_style_summary.merge(right=reviewers, how='left', on='beer_style')\n",
    "beer_style_summary = beer_style_summary.merge(right=avg, how='left', on='beer_style')\n",
    "beer_style_summary"
   ]
  },
  {
   "cell_type": "code",
   "execution_count": 17,
   "id": "entire-textbook",
   "metadata": {},
   "outputs": [
    {
     "data": {
      "text/html": [
       "<div>\n",
       "<style scoped>\n",
       "    .dataframe tbody tr th:only-of-type {\n",
       "        vertical-align: middle;\n",
       "    }\n",
       "\n",
       "    .dataframe tbody tr th {\n",
       "        vertical-align: top;\n",
       "    }\n",
       "\n",
       "    .dataframe thead th {\n",
       "        text-align: right;\n",
       "    }\n",
       "</style>\n",
       "<table border=\"1\" class=\"dataframe\">\n",
       "  <thead>\n",
       "    <tr style=\"text-align: right;\">\n",
       "      <th></th>\n",
       "      <th>count</th>\n",
       "      <th>%</th>\n",
       "    </tr>\n",
       "    <tr>\n",
       "      <th>beer_style</th>\n",
       "      <th></th>\n",
       "      <th></th>\n",
       "    </tr>\n",
       "  </thead>\n",
       "  <tbody>\n",
       "    <tr>\n",
       "      <th>American IPA</th>\n",
       "      <td>117586</td>\n",
       "      <td>7.411128</td>\n",
       "    </tr>\n",
       "    <tr>\n",
       "      <th>American Double / Imperial IPA</th>\n",
       "      <td>85977</td>\n",
       "      <td>5.418898</td>\n",
       "    </tr>\n",
       "    <tr>\n",
       "      <th>American Pale Ale (APA)</th>\n",
       "      <td>63469</td>\n",
       "      <td>4.000280</td>\n",
       "    </tr>\n",
       "    <tr>\n",
       "      <th>Russian Imperial Stout</th>\n",
       "      <td>54129</td>\n",
       "      <td>3.411605</td>\n",
       "    </tr>\n",
       "    <tr>\n",
       "      <th>American Double / Imperial Stout</th>\n",
       "      <td>50705</td>\n",
       "      <td>3.195799</td>\n",
       "    </tr>\n",
       "    <tr>\n",
       "      <th>...</th>\n",
       "      <td>...</td>\n",
       "      <td>...</td>\n",
       "    </tr>\n",
       "    <tr>\n",
       "      <th>Gose</th>\n",
       "      <td>686</td>\n",
       "      <td>0.043237</td>\n",
       "    </tr>\n",
       "    <tr>\n",
       "      <th>Faro</th>\n",
       "      <td>609</td>\n",
       "      <td>0.038384</td>\n",
       "    </tr>\n",
       "    <tr>\n",
       "      <th>Roggenbier</th>\n",
       "      <td>466</td>\n",
       "      <td>0.029371</td>\n",
       "    </tr>\n",
       "    <tr>\n",
       "      <th>Kvass</th>\n",
       "      <td>297</td>\n",
       "      <td>0.018719</td>\n",
       "    </tr>\n",
       "    <tr>\n",
       "      <th>Happoshu</th>\n",
       "      <td>241</td>\n",
       "      <td>0.015190</td>\n",
       "    </tr>\n",
       "  </tbody>\n",
       "</table>\n",
       "<p>104 rows × 2 columns</p>\n",
       "</div>"
      ],
      "text/plain": [
       "                                   count         %\n",
       "beer_style                                        \n",
       "American IPA                      117586  7.411128\n",
       "American Double / Imperial IPA     85977  5.418898\n",
       "American Pale Ale (APA)            63469  4.000280\n",
       "Russian Imperial Stout             54129  3.411605\n",
       "American Double / Imperial Stout   50705  3.195799\n",
       "...                                  ...       ...\n",
       "Gose                                 686  0.043237\n",
       "Faro                                 609  0.038384\n",
       "Roggenbier                           466  0.029371\n",
       "Kvass                                297  0.018719\n",
       "Happoshu                             241  0.015190\n",
       "\n",
       "[104 rows x 2 columns]"
      ]
     },
     "execution_count": 17,
     "metadata": {},
     "output_type": "execute_result"
    }
   ],
   "source": [
    "# Assess target class balance\n",
    "# Adapted from https://stackoverflow.com/questions/50169311/getting-percentage-and-count-python\n",
    "pd.concat([df.value_counts(['beer_style']), df.value_counts(['beer_style'], normalize=True).mul(100)],axis=1, keys=('count','%'))"
   ]
  },
  {
   "cell_type": "markdown",
   "id": "permanent-batman",
   "metadata": {},
   "source": [
    "## Prepare data"
   ]
  },
  {
   "cell_type": "code",
   "execution_count": 18,
   "id": "curious-joint",
   "metadata": {},
   "outputs": [],
   "source": [
    "# Create a copy of df and save it into a variable called df_cleaned\n",
    "df_cleaned = df.copy()"
   ]
  },
  {
   "cell_type": "code",
   "execution_count": 19,
   "id": "planned-garbage",
   "metadata": {},
   "outputs": [],
   "source": [
    "# Drop duplicates\n",
    "df_cleaned = df_cleaned.sort_values('review_overall', ascending=False)\n",
    "df_cleaned = df_cleaned.drop_duplicates(['review_profilename', 'beer_name'], keep='first')"
   ]
  },
  {
   "cell_type": "code",
   "execution_count": 20,
   "id": "antique-motion",
   "metadata": {},
   "outputs": [],
   "source": [
    "# Drop NAs from relevant variables\n",
    "df_cleaned = df_cleaned.dropna(subset=['brewery_name', 'review_profilename'])"
   ]
  },
  {
   "cell_type": "code",
   "execution_count": 21,
   "id": "threatened-assessment",
   "metadata": {},
   "outputs": [],
   "source": [
    "# Drop variables not required\n",
    "df_cleaned = df_cleaned.drop(['brewery_id', 'review_time', 'review_overall', 'review_profilename', 'beer_name', 'beer_abv', 'beer_beerid'], axis=1)"
   ]
  },
  {
   "cell_type": "code",
   "execution_count": 22,
   "id": "urban-arctic",
   "metadata": {},
   "outputs": [],
   "source": [
    "# Create a copy of df_cleaned and save it into a variable called df_encoded\n",
    "df_encoded = df_cleaned.copy()"
   ]
  },
  {
   "cell_type": "code",
   "execution_count": 23,
   "id": "arctic-greenhouse",
   "metadata": {},
   "outputs": [],
   "source": [
    "# Apply label encoder to 'beer_style' target variable\n",
    "# Adapted from: https://scikit-learn.org/stable/modules/generated/sklearn.preprocessing.LabelEncoder.html#sklearn.preprocessing.LabelEncoder\n",
    "from sklearn import preprocessing\n",
    "\n",
    "le = preprocessing.LabelEncoder()\n",
    "le.fit(df_cleaned['beer_style'])\n",
    "df_encoded['beer_style'] = le.transform(df_encoded['beer_style'])"
   ]
  },
  {
   "cell_type": "code",
   "execution_count": 24,
   "id": "normal-manual",
   "metadata": {},
   "outputs": [
    {
     "name": "stderr",
     "output_type": "stream",
     "text": [
      "c:\\python37\\lib\\site-packages\\category_encoders\\utils.py:21: FutureWarning: is_categorical is deprecated and will be removed in a future version.  Use is_categorical_dtype instead\n",
      "  elif pd.api.types.is_categorical(cols):\n"
     ]
    }
   ],
   "source": [
    "# Apply binary encoder to 'brewery_name' variable\n",
    "from category_encoders.binary import BinaryEncoder\n",
    "\n",
    "be = BinaryEncoder(cols=['brewery_name'])\n",
    "be.fit(df_encoded)\n",
    "df_encoded = be.transform(df_encoded)"
   ]
  },
  {
   "cell_type": "code",
   "execution_count": 25,
   "id": "electronic-clearing",
   "metadata": {},
   "outputs": [],
   "source": [
    "# Apply StandardScaler to all numerical input variables\n",
    "# Adapted from: stackoverflow.com/questions/38420847/apply-standardscaler-to-parts-of-a-data-set\n",
    "from sklearn.preprocessing import StandardScaler\n",
    "\n",
    "# Create a copy of df_encoded and save it into a variable called df_enc_sc\n",
    "df_enc_sc = df_encoded.copy()\n",
    "\n",
    "col_names = df_encoded.columns.tolist()\n",
    "col_names.remove('beer_style')\n",
    "features = df_enc_sc[col_names]\n",
    "scaler = StandardScaler().fit(features.values)\n",
    "features = scaler.transform(features.values)\n",
    "df_enc_sc[col_names] = features"
   ]
  },
  {
   "cell_type": "code",
   "execution_count": 26,
   "id": "vulnerable-oliver",
   "metadata": {},
   "outputs": [],
   "source": [
    "# Split data into training and testing with 80-20 ratio\n",
    "from src.data.sets import split_sets_random, save_sets, pop_target\n",
    "\n",
    "X_train, y_train, X_val, y_val, X_test, y_test = split_sets_random(df_enc_sc, target_col='beer_style', test_ratio=0.2, to_numpy=True)\n",
    "\n",
    "# Save sets to folder\n",
    "save_sets(X_train=X_train, y_train=y_train, X_val=X_val, y_val=y_val, X_test=X_test, y_test=y_test, path='./data/processed/')"
   ]
  },
  {
   "cell_type": "code",
   "execution_count": 27,
   "id": "common-george",
   "metadata": {},
   "outputs": [],
   "source": [
    "# Import PytorchDataset class and convert all sets\n",
    "from src.models.pytorch import PytorchDataset\n",
    "\n",
    "train_dataset = PytorchDataset(X=X_train, y=y_train)\n",
    "val_dataset = PytorchDataset(X=X_val, y=y_val)\n",
    "test_dataset = PytorchDataset(X=X_test, y=y_test)"
   ]
  },
  {
   "cell_type": "markdown",
   "id": "regional-wilson",
   "metadata": {},
   "source": [
    "## Baseline"
   ]
  },
  {
   "cell_type": "code",
   "execution_count": 28,
   "id": "robust-allowance",
   "metadata": {},
   "outputs": [],
   "source": [
    "# Import NullModel from src.models.null\n",
    "from src.models.null import NullModel"
   ]
  },
  {
   "cell_type": "code",
   "execution_count": 29,
   "id": "hybrid-glory",
   "metadata": {},
   "outputs": [],
   "source": [
    "# Instantiate NullModel and call .fit_predict() on the training target to extract predictions into a variable called y_base\n",
    "baseline_model = NullModel(target_type='classification')\n",
    "y_base = baseline_model.fit_predict(y_train)"
   ]
  },
  {
   "cell_type": "code",
   "execution_count": 30,
   "id": "baking-handle",
   "metadata": {},
   "outputs": [
    {
     "name": "stdout",
     "output_type": "stream",
     "text": [
      "Accuracy Training: 0.07332889284547743\n",
      "F1 Training: 0.01001953187282294\n"
     ]
    }
   ],
   "source": [
    "# Print the classification metrics for this baseline model\n",
    "from src.models.performance import print_class_perf\n",
    "\n",
    "print_class_perf(y_base, y_train, set_name='Training', average='weighted')"
   ]
  },
  {
   "cell_type": "markdown",
   "id": "random-classic",
   "metadata": {},
   "source": [
    "## Define architecture"
   ]
  },
  {
   "cell_type": "code",
   "execution_count": 31,
   "id": "cellular-reset",
   "metadata": {},
   "outputs": [],
   "source": [
    "# Instantiate PytorchMultiClass and save it into a variable called model\n",
    "from src.models.pytorch import PytorchMultiClass\n",
    "model = PytorchMultiClass(X_train.shape[1])"
   ]
  },
  {
   "cell_type": "code",
   "execution_count": 32,
   "id": "interracial-farming",
   "metadata": {},
   "outputs": [
    {
     "data": {
      "text/plain": [
       "PytorchMultiClass(\n",
       "  (layer_1): Linear(in_features=18, out_features=1024, bias=True)\n",
       "  (layer_2): Linear(in_features=1024, out_features=512, bias=True)\n",
       "  (layer_3): Linear(in_features=512, out_features=128, bias=True)\n",
       "  (layer_4): Linear(in_features=128, out_features=64, bias=True)\n",
       "  (layer_out): Linear(in_features=64, out_features=104, bias=True)\n",
       "  (softmax): Softmax(dim=1)\n",
       "  (relu): ReLU()\n",
       "  (dropout): Dropout(p=0.3, inplace=False)\n",
       "  (batchnorm_1): BatchNorm1d(1024, eps=1e-05, momentum=0.1, affine=True, track_running_stats=True)\n",
       "  (batchnorm_2): BatchNorm1d(512, eps=1e-05, momentum=0.1, affine=True, track_running_stats=True)\n",
       "  (batchnorm_3): BatchNorm1d(128, eps=1e-05, momentum=0.1, affine=True, track_running_stats=True)\n",
       "  (batchnorm_4): BatchNorm1d(64, eps=1e-05, momentum=0.1, affine=True, track_running_stats=True)\n",
       ")"
      ]
     },
     "execution_count": 32,
     "metadata": {},
     "output_type": "execute_result"
    }
   ],
   "source": [
    "# Set model to use the device available\n",
    "from src.models.pytorch import get_device\n",
    "device = get_device()\n",
    "model.to(device)"
   ]
  },
  {
   "cell_type": "code",
   "execution_count": 33,
   "id": "forbidden-declaration",
   "metadata": {},
   "outputs": [
    {
     "name": "stdout",
     "output_type": "stream",
     "text": [
      "PytorchMultiClass(\n",
      "  (layer_1): Linear(in_features=18, out_features=1024, bias=True)\n",
      "  (layer_2): Linear(in_features=1024, out_features=512, bias=True)\n",
      "  (layer_3): Linear(in_features=512, out_features=128, bias=True)\n",
      "  (layer_4): Linear(in_features=128, out_features=64, bias=True)\n",
      "  (layer_out): Linear(in_features=64, out_features=104, bias=True)\n",
      "  (softmax): Softmax(dim=1)\n",
      "  (relu): ReLU()\n",
      "  (dropout): Dropout(p=0.3, inplace=False)\n",
      "  (batchnorm_1): BatchNorm1d(1024, eps=1e-05, momentum=0.1, affine=True, track_running_stats=True)\n",
      "  (batchnorm_2): BatchNorm1d(512, eps=1e-05, momentum=0.1, affine=True, track_running_stats=True)\n",
      "  (batchnorm_3): BatchNorm1d(128, eps=1e-05, momentum=0.1, affine=True, track_running_stats=True)\n",
      "  (batchnorm_4): BatchNorm1d(64, eps=1e-05, momentum=0.1, affine=True, track_running_stats=True)\n",
      ")\n"
     ]
    }
   ],
   "source": [
    "# Print the architecture of model\n",
    "print(model)"
   ]
  },
  {
   "cell_type": "markdown",
   "id": "several-groove",
   "metadata": {},
   "source": [
    "## Train model"
   ]
  },
  {
   "cell_type": "code",
   "execution_count": 34,
   "id": "unknown-consistency",
   "metadata": {},
   "outputs": [],
   "source": [
    "# Instantiate a nn.CrossEntropyLoss() and save it into a variable called criterion\n",
    "criterion = nn.CrossEntropyLoss()"
   ]
  },
  {
   "cell_type": "code",
   "execution_count": 35,
   "id": "disciplinary-seventh",
   "metadata": {},
   "outputs": [],
   "source": [
    "# Instantiate a torch.optim.Adam() optimizer with the model's parameters and learning rate and save it into a variable called optimizer\n",
    "optimizer = torch.optim.Adam(model.parameters(), lr=0.0001)"
   ]
  },
  {
   "cell_type": "code",
   "execution_count": 36,
   "id": "signed-damages",
   "metadata": {},
   "outputs": [],
   "source": [
    "# Import train_classification and test_classification functions that will perform forward and back propagation and calculate loss and Accuracy scores\n",
    "from src.models.pytorch import train_classification, test_classification"
   ]
  },
  {
   "cell_type": "code",
   "execution_count": 37,
   "id": "existing-activity",
   "metadata": {},
   "outputs": [],
   "source": [
    "# Define N_EPOCHS and BATCH_SIZE variables\n",
    "N_EPOCHS = 5\n",
    "BATCH_SIZE = 512"
   ]
  },
  {
   "cell_type": "code",
   "execution_count": 38,
   "id": "alike-trick",
   "metadata": {},
   "outputs": [],
   "source": [
    "# Create variables to save accuracy and loss by epoch for plotting\n",
    "train_loss_history = [] \n",
    "train_acc_history = []\n",
    "valid_loss_history = []\n",
    "valid_acc_history = []"
   ]
  },
  {
   "cell_type": "code",
   "execution_count": 39,
   "id": "single-tracker",
   "metadata": {},
   "outputs": [
    {
     "name": "stdout",
     "output_type": "stream",
     "text": [
      "Epoch: 0\n",
      "\t(train)\t|\tLoss: 0.0089\t|\tAcc: 13.0%\n",
      "\t(valid)\t|\tLoss: 0.0088\t|\tAcc: 16.9%\n",
      "Epoch: 1\n",
      "\t(train)\t|\tLoss: 0.0088\t|\tAcc: 18.5%\n",
      "\t(valid)\t|\tLoss: 0.0087\t|\tAcc: 20.2%\n",
      "Epoch: 2\n",
      "\t(train)\t|\tLoss: 0.0087\t|\tAcc: 20.9%\n",
      "\t(valid)\t|\tLoss: 0.0087\t|\tAcc: 21.7%\n",
      "Epoch: 3\n",
      "\t(train)\t|\tLoss: 0.0087\t|\tAcc: 22.1%\n",
      "\t(valid)\t|\tLoss: 0.0087\t|\tAcc: 22.8%\n",
      "Epoch: 4\n",
      "\t(train)\t|\tLoss: 0.0087\t|\tAcc: 23.0%\n",
      "\t(valid)\t|\tLoss: 0.0086\t|\tAcc: 23.4%\n"
     ]
    }
   ],
   "source": [
    "# Create a for loop that will iterate through the specified number of epochs and will train the model with the training set and assess the performance on the validation set and print their scores\n",
    "for epoch in range(N_EPOCHS):\n",
    "    train_loss, train_acc = train_classification(train_dataset, model=model, criterion=criterion, optimizer=optimizer, batch_size=BATCH_SIZE, device=device)\n",
    "    valid_loss, valid_acc = test_classification(val_dataset, model=model, criterion=criterion, batch_size=BATCH_SIZE, device=device)\n",
    "\n",
    "    train_loss_history.append(train_loss)\n",
    "    train_acc_history.append(train_acc)\n",
    "    valid_loss_history.append(valid_loss)\n",
    "    valid_acc_history.append(valid_acc)\n",
    "    \n",
    "    print(f'Epoch: {epoch}')\n",
    "    print(f'\\t(train)\\t|\\tLoss: {train_loss:.4f}\\t|\\tAcc: {train_acc * 100:.1f}%')\n",
    "    print(f'\\t(valid)\\t|\\tLoss: {valid_loss:.4f}\\t|\\tAcc: {valid_acc * 100:.1f}%')"
   ]
  },
  {
   "cell_type": "markdown",
   "id": "fallen-edwards",
   "metadata": {},
   "source": [
    "### Resume training from checkpoint (if required)"
   ]
  },
  {
   "cell_type": "code",
   "execution_count": 40,
   "id": "cooperative-posting",
   "metadata": {},
   "outputs": [],
   "source": [
    "# Save model checkpoint\n",
    "torch.save({\n",
    "            'epoch': epoch,\n",
    "            'model_state_dict': model.state_dict(),\n",
    "            'optimizer_state_dict': optimizer.state_dict(),\n",
    "            'loss': train_loss,\n",
    "            }, \"./models/checkpoints/beer_pred_cpu.pt\")"
   ]
  },
  {
   "cell_type": "code",
   "execution_count": null,
   "id": "eastern-christopher",
   "metadata": {},
   "outputs": [],
   "source": [
    "# Load model from checkpoint\n",
    "model = PytorchMultiClass(X_train.shape[1])\n",
    "model.to(device)\n",
    "optimizer = torch.optim.Adam(model.parameters(), lr=0.0001)\n",
    "\n",
    "checkpoint = torch.load(\"./models/checkpoints/beer_pred_cpu.pt\")\n",
    "model.load_state_dict(checkpoint['model_state_dict'])\n",
    "optimizer.load_state_dict(checkpoint['optimizer_state_dict'])\n",
    "epoch = checkpoint['epoch']\n",
    "loss = checkpoint['loss']\n",
    "\n",
    "#model.eval() #OR\n",
    "model.train()"
   ]
  },
  {
   "cell_type": "markdown",
   "id": "forward-draft",
   "metadata": {},
   "source": [
    "## Assess performance"
   ]
  },
  {
   "cell_type": "code",
   "execution_count": 41,
   "id": "aboriginal-yorkshire",
   "metadata": {},
   "outputs": [
    {
     "data": {
      "image/png": "[encoded data removed]",
      "text/plain": [
       "<Figure size 432x288 with 1 Axes>"
      ]
     },
     "metadata": {
      "needs_background": "light"
     },
     "output_type": "display_data"
    },
    {
     "data": {
      "image/png": "[encoded data removed]",
      "text/plain": [
       "<Figure size 432x288 with 1 Axes>"
      ]
     },
     "metadata": {
      "needs_background": "light"
     },
     "output_type": "display_data"
    }
   ],
   "source": [
    "# Plot training and validation loss and accuracy per epoch\n",
    "# Adapted from: https://machinelearningmastery.com/display-deep-learning-model-training-history-in-keras/\n",
    "\n",
    "plt.plot(train_loss_history)\n",
    "plt.plot(valid_loss_history)\n",
    "plt.title('Model loss')\n",
    "plt.ylabel('Loss')\n",
    "plt.xlabel('Epoch')\n",
    "plt.legend(['train', 'valid'], loc='upper left')\n",
    "plt.show()\n",
    "\n",
    "plt.plot(train_acc_history)\n",
    "plt.plot(valid_acc_history)\n",
    "plt.title('Model accuracy')\n",
    "plt.ylabel('Accuracy')\n",
    "plt.xlabel('Epoch')\n",
    "plt.legend(['train', 'valid'], loc='upper left')\n",
    "plt.show()"
   ]
  },
  {
   "cell_type": "code",
   "execution_count": 42,
   "id": "moral-market",
   "metadata": {},
   "outputs": [
    {
     "name": "stdout",
     "output_type": "stream",
     "text": [
      "\tLoss: 0.0086\t|\tAcc: 0.2\n"
     ]
    }
   ],
   "source": [
    "# Assess the model performance on the testing set and print its scores\n",
    "test_loss, test_acc = test_classification(test_dataset, model=model, criterion=criterion, batch_size=BATCH_SIZE, device=device)\n",
    "print(f'\\tLoss: {test_loss:.4f}\\t|\\tAcc: {test_acc:.1f}')"
   ]
  },
  {
   "cell_type": "code",
   "execution_count": 43,
   "id": "funded-wheat",
   "metadata": {},
   "outputs": [
    {
     "data": {
      "text/plain": [
       "12     88515\n",
       "9      38601\n",
       "89     26292\n",
       "2      17268\n",
       "11     17033\n",
       "1      14733\n",
       "25     13362\n",
       "60     10834\n",
       "47     10635\n",
       "92      9495\n",
       "103     9084\n",
       "37      8502\n",
       "53      8379\n",
       "14      6959\n",
       "26      6706\n",
       "65      5179\n",
       "74      3351\n",
       "79      2484\n",
       "24      2450\n",
       "102     2168\n",
       "67      2081\n",
       "98      1852\n",
       "94      1423\n",
       "100     1135\n",
       "3        746\n",
       "58       679\n",
       "84       529\n",
       "61       504\n",
       "95       497\n",
       "96       483\n",
       "42       319\n",
       "dtype: int64"
      ]
     },
     "execution_count": 43,
     "metadata": {},
     "output_type": "execute_result"
    }
   ],
   "source": [
    "# Print predictions by (encoded) class\n",
    "preds = model(test_dataset.X_tensor.to(device)).argmax(1)\n",
    "df_preds = pd.DataFrame(preds)\n",
    "df_preds.value_counts()"
   ]
  },
  {
   "cell_type": "markdown",
   "id": "split-reception",
   "metadata": {},
   "source": [
    "## Create artefacts for deployment"
   ]
  },
  {
   "cell_type": "code",
   "execution_count": 44,
   "id": "afraid-magnitude",
   "metadata": {},
   "outputs": [],
   "source": [
    "# Save model\n",
    "torch.save(model, \"./models/beer_pred_cpu.pt\")\n",
    "torch.save(model.state_dict(), \"./models/beer_pred_cpu_state_dict.pt\")"
   ]
  },
  {
   "cell_type": "code",
   "execution_count": 45,
   "id": "following-virus",
   "metadata": {},
   "outputs": [
    {
     "data": {
      "text/plain": [
       "793307             American Pale Ale (APA)\n",
       "591801    American Double / Imperial Stout\n",
       "591818    American Double / Imperial Stout\n",
       "591819    American Double / Imperial Stout\n",
       "591824    American Double / Imperial Stout\n",
       "                        ...               \n",
       "653706            American Amber / Red Ale\n",
       "37234                       Czech Pilsener\n",
       "653695                          Hefeweizen\n",
       "39667              American Pale Ale (APA)\n",
       "39648                      Irish Dry Stout\n",
       "Name: beer_style, Length: 1561390, dtype: object"
      ]
     },
     "execution_count": 45,
     "metadata": {},
     "output_type": "execute_result"
    }
   ],
   "source": [
    "# Cleaned dataset with target variable removed \n",
    "df_prod = df_cleaned.copy()\n",
    "df_prod.pop('beer_style')"
   ]
  },
  {
   "cell_type": "code",
   "execution_count": 46,
   "id": "photographic-analysis",
   "metadata": {},
   "outputs": [
    {
     "name": "stderr",
     "output_type": "stream",
     "text": [
      "c:\\python37\\lib\\site-packages\\category_encoders\\utils.py:21: FutureWarning: is_categorical is deprecated and will be removed in a future version.  Use is_categorical_dtype instead\n",
      "  elif pd.api.types.is_categorical(cols):\n"
     ]
    },
    {
     "data": {
      "text/plain": [
       "['./models/be_sc.joblib']"
      ]
     },
     "execution_count": 46,
     "metadata": {},
     "output_type": "execute_result"
    }
   ],
   "source": [
    "# Pipeline to transform data\n",
    "from sklearn.pipeline import Pipeline\n",
    "\n",
    "def create_pipe(df):\n",
    "\n",
    "    pipe = Pipeline([\n",
    "        ('be', BinaryEncoder(cols=['brewery_name'])),\n",
    "        ('sc', StandardScaler())\n",
    "    ])\n",
    "\n",
    "    pipe.fit(df)\n",
    "\n",
    "    return pipe\n",
    "\n",
    "be_sc = create_pipe(df_prod)\n",
    "\n",
    "dump(be_sc, './models/be_sc.joblib')"
   ]
  },
  {
   "cell_type": "code",
   "execution_count": 47,
   "id": "recent-article",
   "metadata": {},
   "outputs": [
    {
     "data": {
      "text/plain": [
       "['./models/le.joblib']"
      ]
     },
     "execution_count": 47,
     "metadata": {},
     "output_type": "execute_result"
    }
   ],
   "source": [
    "# Label encoder\n",
    "dump(le, './models/le.joblib')"
   ]
  },
  {
   "cell_type": "markdown",
   "id": "roman-greece",
   "metadata": {},
   "source": [
    "## Test artefacts for deployment"
   ]
  },
  {
   "cell_type": "markdown",
   "id": "effective-canvas",
   "metadata": {},
   "source": [
    "### Single beer_type prediction"
   ]
  },
  {
   "cell_type": "code",
   "execution_count": 48,
   "id": "smooth-macintosh",
   "metadata": {},
   "outputs": [
    {
     "data": {
      "text/plain": [
       "PytorchMultiClass(\n",
       "  (layer_1): Linear(in_features=18, out_features=1024, bias=True)\n",
       "  (layer_2): Linear(in_features=1024, out_features=512, bias=True)\n",
       "  (layer_3): Linear(in_features=512, out_features=128, bias=True)\n",
       "  (layer_4): Linear(in_features=128, out_features=64, bias=True)\n",
       "  (layer_out): Linear(in_features=64, out_features=104, bias=True)\n",
       "  (softmax): Softmax(dim=1)\n",
       "  (relu): ReLU()\n",
       "  (dropout): Dropout(p=0.3, inplace=False)\n",
       "  (batchnorm_1): BatchNorm1d(1024, eps=1e-05, momentum=0.1, affine=True, track_running_stats=True)\n",
       "  (batchnorm_2): BatchNorm1d(512, eps=1e-05, momentum=0.1, affine=True, track_running_stats=True)\n",
       "  (batchnorm_3): BatchNorm1d(128, eps=1e-05, momentum=0.1, affine=True, track_running_stats=True)\n",
       "  (batchnorm_4): BatchNorm1d(64, eps=1e-05, momentum=0.1, affine=True, track_running_stats=True)\n",
       ")"
      ]
     },
     "execution_count": 48,
     "metadata": {},
     "output_type": "execute_result"
    }
   ],
   "source": [
    "# Load model and set to evaluation mode\n",
    "model = torch.load('./models/beer_pred_cpu.pt')\n",
    "model.eval()"
   ]
  },
  {
   "cell_type": "code",
   "execution_count": 49,
   "id": "korean-diabetes",
   "metadata": {},
   "outputs": [],
   "source": [
    "# Create dummy dataframe to simulate app inputs\n",
    "brewery_name = 'Vecchio Birraio'\n",
    "review_aroma = 2.5\n",
    "review_appearance = 1.5\n",
    "review_palate = 1.5\n",
    "review_taste = 1.5\n",
    "\n",
    "input_df = pd.DataFrame({'brewery_name': [brewery_name],\n",
    "                       'review_aroma': [review_aroma],\n",
    "                       'review_appearance': [review_appearance],\n",
    "                       'review_palate': [review_palate],\n",
    "                       'review_taste': [review_taste]})"
   ]
  },
  {
   "cell_type": "code",
   "execution_count": 50,
   "id": "diverse-production",
   "metadata": {},
   "outputs": [
    {
     "data": {
      "text/plain": [
       "'Euro Pale Lager'"
      ]
     },
     "execution_count": 50,
     "metadata": {},
     "output_type": "execute_result"
    }
   ],
   "source": [
    "# Load artefacts, process and transform data, run through model, print predictions\n",
    "be_sc = load('./models/be_sc.joblib')\n",
    "input_df = be_sc.transform(input_df)\n",
    "input_tensor = torch.Tensor(np.array(input_df))\n",
    "pred_num = model(input_tensor).argmax(1)\n",
    "le = load('./models/le.joblib')\n",
    "pred_name = le.inverse_transform(pred_num.tolist())[0]\n",
    "pred_name"
   ]
  },
  {
   "cell_type": "markdown",
   "id": "excessive-finland",
   "metadata": {},
   "source": [
    "### Multiple beer_type prediction"
   ]
  },
  {
   "cell_type": "code",
   "execution_count": 51,
   "id": "spare-trader",
   "metadata": {},
   "outputs": [
    {
     "data": {
      "text/plain": [
       "PytorchMultiClass(\n",
       "  (layer_1): Linear(in_features=18, out_features=1024, bias=True)\n",
       "  (layer_2): Linear(in_features=1024, out_features=512, bias=True)\n",
       "  (layer_3): Linear(in_features=512, out_features=128, bias=True)\n",
       "  (layer_4): Linear(in_features=128, out_features=64, bias=True)\n",
       "  (layer_out): Linear(in_features=64, out_features=104, bias=True)\n",
       "  (softmax): Softmax(dim=1)\n",
       "  (relu): ReLU()\n",
       "  (dropout): Dropout(p=0.3, inplace=False)\n",
       "  (batchnorm_1): BatchNorm1d(1024, eps=1e-05, momentum=0.1, affine=True, track_running_stats=True)\n",
       "  (batchnorm_2): BatchNorm1d(512, eps=1e-05, momentum=0.1, affine=True, track_running_stats=True)\n",
       "  (batchnorm_3): BatchNorm1d(128, eps=1e-05, momentum=0.1, affine=True, track_running_stats=True)\n",
       "  (batchnorm_4): BatchNorm1d(64, eps=1e-05, momentum=0.1, affine=True, track_running_stats=True)\n",
       ")"
      ]
     },
     "execution_count": 51,
     "metadata": {},
     "output_type": "execute_result"
    }
   ],
   "source": [
    "# Load model and set to evaluation mode\n",
    "model = torch.load('./models/beer_pred_cpu.pt')\n",
    "model.eval()"
   ]
  },
  {
   "cell_type": "code",
   "execution_count": 52,
   "id": "beautiful-medium",
   "metadata": {},
   "outputs": [],
   "source": [
    "# Create dummy dataframe to simulate app inputs\n",
    "brewery_names = ['Vecchio Birraio', 'Caldera Brewing Company']\n",
    "reviews_aroma = [2.5, 1.5]\n",
    "reviews_appearance = [1.5, 3.0]\n",
    "reviews_palate = [1.5, 4.0]\n",
    "reviews_taste = [1.5, 3.0]\n",
    "\n",
    "input_df = pd.DataFrame({'brewery_name': brewery_names,\n",
    "                       'review_aroma': reviews_aroma,\n",
    "                       'review_appearance': reviews_appearance,\n",
    "                       'review_palate': reviews_palate,\n",
    "                       'review_taste': reviews_taste})"
   ]
  },
  {
   "cell_type": "code",
   "execution_count": 53,
   "id": "resistant-island",
   "metadata": {},
   "outputs": [
    {
     "data": {
      "text/plain": [
       "['Euro Pale Lager', 'American IPA']"
      ]
     },
     "execution_count": 53,
     "metadata": {},
     "output_type": "execute_result"
    }
   ],
   "source": [
    "# Load artefacts, process and transform data, run through model, print predictions\n",
    "be_sc = load('./models/be_sc.joblib')\n",
    "input_df = be_sc.transform(input_df)\n",
    "input_tensor = torch.Tensor(np.array(input_df))\n",
    "pred_nums = model(input_tensor).argmax(1)\n",
    "le = load('./models/le.joblib')\n",
    "pred_names = list(le.inverse_transform(pred_nums.tolist()))\n",
    "pred_names"
   ]
  },
  {
   "cell_type": "markdown",
   "id": "romantic-canada",
   "metadata": {},
   "source": [
    "### Model architecture"
   ]
  },
  {
   "cell_type": "code",
   "execution_count": 55,
   "id": "cubic-webmaster",
   "metadata": {},
   "outputs": [
    {
     "data": {
      "text/plain": [
       "['PytorchMultiClass(',\n",
       " '  (layer_1): Linear(in_features=18, out_features=1024, bias=True)',\n",
       " '  (layer_2): Linear(in_features=1024, out_features=512, bias=True)',\n",
       " '  (layer_3): Linear(in_features=512, out_features=128, bias=True)',\n",
       " '  (layer_4): Linear(in_features=128, out_features=64, bias=True)',\n",
       " '  (layer_out): Linear(in_features=64, out_features=104, bias=True)',\n",
       " '  (softmax): Softmax(dim=1)',\n",
       " '  (relu): ReLU()',\n",
       " '  (dropout): Dropout(p=0.3, inplace=False)',\n",
       " '  (batchnorm_1): BatchNorm1d(1024, eps=1e-05, momentum=0.1, affine=True, track_running_stats=True)',\n",
       " '  (batchnorm_2): BatchNorm1d(512, eps=1e-05, momentum=0.1, affine=True, track_running_stats=True)',\n",
       " '  (batchnorm_3): BatchNorm1d(128, eps=1e-05, momentum=0.1, affine=True, track_running_stats=True)',\n",
       " '  (batchnorm_4): BatchNorm1d(64, eps=1e-05, momentum=0.1, affine=True, track_running_stats=True)',\n",
       " ')']"
      ]
     },
     "execution_count": 55,
     "metadata": {},
     "output_type": "execute_result"
    }
   ],
   "source": [
    "from src.utils.misc import capture\n",
    "#from torchsummary import summary\n",
    "\n",
    "model = torch.load(\"./models/beer_pred_cpu.pt\")\n",
    "\n",
    "def display_architecture():\n",
    "    with capture() as output:\n",
    "        #print(summary(model, input_size=(1000,18)))\n",
    "        print(model)\n",
    "    return output\n",
    "\n",
    "display_architecture()"
   ]
  },
  {
   "cell_type": "code",
   "execution_count": null,
   "id": "durable-tower",
   "metadata": {},
   "outputs": [],
   "source": []
  }
 ],
 "metadata": {
  "kernelspec": {
   "display_name": "Python 3",
   "language": "python",
   "name": "python3"
  },
  "language_info": {
   "codemirror_mode": {
    "name": "ipython",
    "version": 3
   },
   "file_extension": ".py",
   "mimetype": "text/x-python",
   "name": "python",
   "nbconvert_exporter": "python",
   "pygments_lexer": "ipython3",
   "version": "3.7.9"
  }
 },
 "nbformat": 4,
 "nbformat_minor": 5
}
